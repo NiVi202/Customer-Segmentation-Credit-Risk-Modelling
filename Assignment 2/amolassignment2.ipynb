{
 "cells": [
  {
   "cell_type": "code",
   "execution_count": 1,
   "id": "d5c2aaa5",
   "metadata": {},
   "outputs": [],
   "source": [
    "import numpy as np \n",
    "import pandas as pd \n",
    "import matplotlib as mpl\n",
    "import matplotlib.pyplot as plt\n",
    "import seaborn as sns\n",
    "from math import sqrt\n",
    "%matplotlib inline"
   ]
  },
  {
   "cell_type": "code",
   "execution_count": 2,
   "id": "085f1ee9",
   "metadata": {},
   "outputs": [],
   "source": [
    "from sklearn. model_selection import train_test_split, RepeatedStratifiedKFold, cross_val_score\n",
    "from sklearn.metrics import roc_curve, roc_auc_score, confusion_matrix, precision_recall_curve, auc\n",
    "from sklearn.linear_model import LogisticRegression\n",
    "from sklearn.base import  BaseEstimator, TransformerMixin\n",
    "from sklearn.feature_selection import f_classif\n",
    "from sklearn.pipeline import Pipeline\n",
    "from scipy.stats import chi2_contingency"
   ]
  },
  {
   "cell_type": "code",
   "execution_count": 3,
   "id": "51b25dff",
   "metadata": {},
   "outputs": [
    {
     "name": "stderr",
     "output_type": "stream",
     "text": [
      "C:\\Users\\amols\\AppData\\Local\\Temp\\ipykernel_4032\\2032306817.py:1: DtypeWarning: Columns (19) have mixed types. Specify dtype option on import or set low_memory=False.\n",
      "  df = pd.read_csv('credit_risk_dataset.csv')\n"
     ]
    }
   ],
   "source": [
    "df = pd.read_csv('credit_risk_dataset.csv')"
   ]
  },
  {
   "cell_type": "code",
   "execution_count": 4,
   "id": "519d8f21",
   "metadata": {},
   "outputs": [
    {
     "data": {
      "text/plain": [
       "(466285, 74)"
      ]
     },
     "execution_count": 4,
     "metadata": {},
     "output_type": "execute_result"
    }
   ],
   "source": [
    "df.shape"
   ]
  },
  {
   "cell_type": "code",
   "execution_count": 5,
   "id": "35a1cc22",
   "metadata": {},
   "outputs": [
    {
     "name": "stdout",
     "output_type": "stream",
     "text": [
      "Columns names:\n",
      "['id', 'member_id', 'loan_amnt', 'funded_amnt', 'funded_amnt_inv', 'term', 'int_rate', 'installment', 'grade', 'sub_grade', 'emp_title', 'emp_length', 'home_ownership', 'annual_inc', 'verification_status', 'issue_d', 'loan_status', 'pymnt_plan', 'url', 'desc', 'purpose', 'title', 'zip_code', 'addr_state', 'dti', 'delinq_2yrs', 'earliest_cr_line', 'inq_last_6mths', 'mths_since_last_delinq', 'mths_since_last_record', 'open_acc', 'pub_rec', 'revol_bal', 'revol_util', 'total_acc', 'initial_list_status', 'out_prncp', 'out_prncp_inv', 'total_pymnt', 'total_pymnt_inv', 'total_rec_prncp', 'total_rec_int', 'total_rec_late_fee', 'recoveries', 'collection_recovery_fee', 'last_pymnt_d', 'last_pymnt_amnt', 'next_pymnt_d', 'last_credit_pull_d', 'collections_12_mths_ex_med', 'mths_since_last_major_derog', 'policy_code', 'application_type', 'annual_inc_joint', 'dti_joint', 'verification_status_joint', 'acc_now_delinq', 'tot_coll_amt', 'tot_cur_bal', 'open_acc_6m', 'open_il_6m', 'open_il_12m', 'open_il_24m', 'mths_since_rcnt_il', 'total_bal_il', 'il_util', 'open_rv_12m', 'open_rv_24m', 'max_bal_bc', 'all_util', 'total_rev_hi_lim', 'inq_fi', 'total_cu_tl', 'inq_last_12m']\n"
     ]
    }
   ],
   "source": [
    "columns_names=df.columns.tolist()\n",
    "print(\"Columns names:\")\n",
    "print(columns_names)"
   ]
  },
  {
   "cell_type": "code",
   "execution_count": 6,
   "id": "61aab035",
   "metadata": {},
   "outputs": [],
   "source": [
    "dtyp = df.dtypes"
   ]
  },
  {
   "cell_type": "code",
   "execution_count": 7,
   "id": "b787bb3b",
   "metadata": {
    "scrolled": true
   },
   "outputs": [
    {
     "name": "stdout",
     "output_type": "stream",
     "text": [
      "id                    int64\n",
      "member_id             int64\n",
      "loan_amnt             int64\n",
      "funded_amnt           int64\n",
      "funded_amnt_inv     float64\n",
      "                     ...   \n",
      "all_util            float64\n",
      "total_rev_hi_lim    float64\n",
      "inq_fi              float64\n",
      "total_cu_tl         float64\n",
      "inq_last_12m        float64\n",
      "Length: 74, dtype: object\n"
     ]
    }
   ],
   "source": [
    "print(dtyp)"
   ]
  },
  {
   "cell_type": "code",
   "execution_count": 8,
   "id": "dce033a5",
   "metadata": {},
   "outputs": [
    {
     "name": "stdout",
     "output_type": "stream",
     "text": [
      "                 id     member_id      loan_amnt    funded_amnt  \\\n",
      "count  4.662850e+05  4.662850e+05  466285.000000  466285.000000   \n",
      "mean   1.307973e+07  1.459766e+07   14317.277577   14291.801044   \n",
      "std    1.089371e+07  1.168237e+07    8286.509164    8274.371300   \n",
      "min    5.473400e+04  7.047300e+04     500.000000     500.000000   \n",
      "25%    3.639987e+06  4.379705e+06    8000.000000    8000.000000   \n",
      "50%    1.010790e+07  1.194108e+07   12000.000000   12000.000000   \n",
      "75%    2.073121e+07  2.300154e+07   20000.000000   20000.000000   \n",
      "max    3.809811e+07  4.086083e+07   35000.000000   35000.000000   \n",
      "\n",
      "       funded_amnt_inv       int_rate    installment    annual_inc  \\\n",
      "count    466285.000000  466285.000000  466285.000000  4.662810e+05   \n",
      "mean      14222.329888      13.829236     432.061201  7.327738e+04   \n",
      "std        8297.637788       4.357587     243.485550  5.496357e+04   \n",
      "min           0.000000       5.420000      15.670000  1.896000e+03   \n",
      "25%        8000.000000      10.990000     256.690000  4.500000e+04   \n",
      "50%       12000.000000      13.660000     379.890000  6.300000e+04   \n",
      "75%       19950.000000      16.490000     566.580000  8.896000e+04   \n",
      "max       35000.000000      26.060000    1409.990000  7.500000e+06   \n",
      "\n",
      "                 dti    delinq_2yrs  ...  total_bal_il  il_util  open_rv_12m  \\\n",
      "count  466285.000000  466256.000000  ...           0.0      0.0          0.0   \n",
      "mean       17.218758       0.284678  ...           NaN      NaN          NaN   \n",
      "std         7.851121       0.797365  ...           NaN      NaN          NaN   \n",
      "min         0.000000       0.000000  ...           NaN      NaN          NaN   \n",
      "25%        11.360000       0.000000  ...           NaN      NaN          NaN   \n",
      "50%        16.870000       0.000000  ...           NaN      NaN          NaN   \n",
      "75%        22.780000       0.000000  ...           NaN      NaN          NaN   \n",
      "max        39.990000      29.000000  ...           NaN      NaN          NaN   \n",
      "\n",
      "       open_rv_24m  max_bal_bc  all_util  total_rev_hi_lim  inq_fi  \\\n",
      "count          0.0         0.0       0.0      3.960090e+05     0.0   \n",
      "mean           NaN         NaN       NaN      3.037909e+04     NaN   \n",
      "std            NaN         NaN       NaN      3.724713e+04     NaN   \n",
      "min            NaN         NaN       NaN      0.000000e+00     NaN   \n",
      "25%            NaN         NaN       NaN      1.350000e+04     NaN   \n",
      "50%            NaN         NaN       NaN      2.280000e+04     NaN   \n",
      "75%            NaN         NaN       NaN      3.790000e+04     NaN   \n",
      "max            NaN         NaN       NaN      9.999999e+06     NaN   \n",
      "\n",
      "       total_cu_tl  inq_last_12m  \n",
      "count          0.0           0.0  \n",
      "mean           NaN           NaN  \n",
      "std            NaN           NaN  \n",
      "min            NaN           NaN  \n",
      "25%            NaN           NaN  \n",
      "50%            NaN           NaN  \n",
      "75%            NaN           NaN  \n",
      "max            NaN           NaN  \n",
      "\n",
      "[8 rows x 52 columns]\n"
     ]
    }
   ],
   "source": [
    "print (df.describe())"
   ]
  },
  {
   "cell_type": "code",
   "execution_count": 9,
   "id": "e15efa3d",
   "metadata": {
    "scrolled": false
   },
   "outputs": [
    {
     "data": {
      "text/plain": [
       "Index(['id', 'member_id', 'loan_amnt', 'funded_amnt', 'funded_amnt_inv',\n",
       "       'term', 'int_rate', 'installment', 'grade', 'sub_grade', 'emp_title',\n",
       "       'emp_length', 'home_ownership', 'annual_inc', 'verification_status',\n",
       "       'issue_d', 'loan_status', 'pymnt_plan', 'url', 'desc', 'purpose',\n",
       "       'title', 'zip_code', 'addr_state', 'dti', 'delinq_2yrs',\n",
       "       'earliest_cr_line', 'inq_last_6mths', 'mths_since_last_delinq',\n",
       "       'open_acc', 'pub_rec', 'revol_bal', 'revol_util', 'total_acc',\n",
       "       'initial_list_status', 'out_prncp', 'out_prncp_inv', 'total_pymnt',\n",
       "       'total_pymnt_inv', 'total_rec_prncp', 'total_rec_int',\n",
       "       'total_rec_late_fee', 'recoveries', 'collection_recovery_fee',\n",
       "       'last_pymnt_d', 'last_pymnt_amnt', 'next_pymnt_d', 'last_credit_pull_d',\n",
       "       'collections_12_mths_ex_med', 'mths_since_last_major_derog',\n",
       "       'policy_code', 'application_type', 'acc_now_delinq', 'tot_coll_amt',\n",
       "       'tot_cur_bal', 'total_rev_hi_lim'],\n",
       "      dtype='object')"
      ]
     },
     "execution_count": 9,
     "metadata": {},
     "output_type": "execute_result"
    }
   ],
   "source": [
    "df.columns[df.isnull().mean() < 0.8]"
   ]
  },
  {
   "cell_type": "code",
   "execution_count": 10,
   "id": "5c023750",
   "metadata": {},
   "outputs": [],
   "source": [
    "pct_null = df.isnull().sum() / len(df)\n",
    "missing_features = pct_null[pct_null > 0.80].index\n",
    "df.drop(missing_features, axis=1, inplace=True)"
   ]
  },
  {
   "cell_type": "code",
   "execution_count": 11,
   "id": "71d16d62",
   "metadata": {},
   "outputs": [
    {
     "data": {
      "text/plain": [
       "(466285, 56)"
      ]
     },
     "execution_count": 11,
     "metadata": {},
     "output_type": "execute_result"
    }
   ],
   "source": [
    "df.shape"
   ]
  },
  {
   "cell_type": "code",
   "execution_count": 12,
   "id": "7a0a1886",
   "metadata": {},
   "outputs": [],
   "source": [
    "duplicate_cols = df.columns[df.columns.duplicated()] \n",
    "df.drop(columns=duplicate_cols, inplace=True)"
   ]
  },
  {
   "cell_type": "code",
   "execution_count": 13,
   "id": "b773bb74",
   "metadata": {},
   "outputs": [
    {
     "data": {
      "text/plain": [
       "(466285, 56)"
      ]
     },
     "execution_count": 13,
     "metadata": {},
     "output_type": "execute_result"
    }
   ],
   "source": [
    "df.shape"
   ]
  },
  {
   "cell_type": "code",
   "execution_count": 14,
   "id": "1d3f3e8c",
   "metadata": {
    "scrolled": true
   },
   "outputs": [
    {
     "name": "stdout",
     "output_type": "stream",
     "text": [
      "                 id     member_id      loan_amnt    funded_amnt  \\\n",
      "count  4.662850e+05  4.662850e+05  466285.000000  466285.000000   \n",
      "mean   1.307973e+07  1.459766e+07   14317.277577   14291.801044   \n",
      "std    1.089371e+07  1.168237e+07    8286.509164    8274.371300   \n",
      "min    5.473400e+04  7.047300e+04     500.000000     500.000000   \n",
      "25%    3.639987e+06  4.379705e+06    8000.000000    8000.000000   \n",
      "50%    1.010790e+07  1.194108e+07   12000.000000   12000.000000   \n",
      "75%    2.073121e+07  2.300154e+07   20000.000000   20000.000000   \n",
      "max    3.809811e+07  4.086083e+07   35000.000000   35000.000000   \n",
      "\n",
      "       funded_amnt_inv       int_rate    installment    annual_inc  \\\n",
      "count    466285.000000  466285.000000  466285.000000  4.662810e+05   \n",
      "mean      14222.329888      13.829236     432.061201  7.327738e+04   \n",
      "std        8297.637788       4.357587     243.485550  5.496357e+04   \n",
      "min           0.000000       5.420000      15.670000  1.896000e+03   \n",
      "25%        8000.000000      10.990000     256.690000  4.500000e+04   \n",
      "50%       12000.000000      13.660000     379.890000  6.300000e+04   \n",
      "75%       19950.000000      16.490000     566.580000  8.896000e+04   \n",
      "max       35000.000000      26.060000    1409.990000  7.500000e+06   \n",
      "\n",
      "                 dti    delinq_2yrs  ...     recoveries  \\\n",
      "count  466285.000000  466256.000000  ...  466285.000000   \n",
      "mean       17.218758       0.284678  ...      85.344211   \n",
      "std         7.851121       0.797365  ...     552.216084   \n",
      "min         0.000000       0.000000  ...       0.000000   \n",
      "25%        11.360000       0.000000  ...       0.000000   \n",
      "50%        16.870000       0.000000  ...       0.000000   \n",
      "75%        22.780000       0.000000  ...       0.000000   \n",
      "max        39.990000      29.000000  ...   33520.270000   \n",
      "\n",
      "       collection_recovery_fee  last_pymnt_amnt  collections_12_mths_ex_med  \\\n",
      "count            466285.000000    466285.000000               466140.000000   \n",
      "mean                  8.961534      3123.913796                    0.009085   \n",
      "std                  85.491437      5554.737393                    0.108648   \n",
      "min                   0.000000         0.000000                    0.000000   \n",
      "25%                   0.000000       312.620000                    0.000000   \n",
      "50%                   0.000000       545.960000                    0.000000   \n",
      "75%                   0.000000      3187.510000                    0.000000   \n",
      "max                7002.190000     36234.440000                   20.000000   \n",
      "\n",
      "       mths_since_last_major_derog  policy_code  acc_now_delinq  tot_coll_amt  \\\n",
      "count                 98974.000000     466285.0   466256.000000  3.960090e+05   \n",
      "mean                     42.852547          1.0        0.004002  1.919135e+02   \n",
      "std                      21.662591          0.0        0.068637  1.463021e+04   \n",
      "min                       0.000000          1.0        0.000000  0.000000e+00   \n",
      "25%                      26.000000          1.0        0.000000  0.000000e+00   \n",
      "50%                      42.000000          1.0        0.000000  0.000000e+00   \n",
      "75%                      59.000000          1.0        0.000000  0.000000e+00   \n",
      "max                     188.000000          1.0        5.000000  9.152545e+06   \n",
      "\n",
      "        tot_cur_bal  total_rev_hi_lim  \n",
      "count  3.960090e+05      3.960090e+05  \n",
      "mean   1.388017e+05      3.037909e+04  \n",
      "std    1.521147e+05      3.724713e+04  \n",
      "min    0.000000e+00      0.000000e+00  \n",
      "25%    2.861800e+04      1.350000e+04  \n",
      "50%    8.153900e+04      2.280000e+04  \n",
      "75%    2.089530e+05      3.790000e+04  \n",
      "max    8.000078e+06      9.999999e+06  \n",
      "\n",
      "[8 rows x 34 columns]\n"
     ]
    }
   ],
   "source": [
    "print (df.describe())"
   ]
  },
  {
   "cell_type": "code",
   "execution_count": 15,
   "id": "d654a40a",
   "metadata": {},
   "outputs": [
    {
     "data": {
      "text/plain": [
       "array(['Fully Paid', 'Charged Off', 'Current', 'Default',\n",
       "       'Late (31-120 days)', 'In Grace Period', 'Late (16-30 days)',\n",
       "       'Does not meet the credit policy. Status:Fully Paid',\n",
       "       'Does not meet the credit policy. Status:Charged Off'],\n",
       "      dtype=object)"
      ]
     },
     "execution_count": 15,
     "metadata": {},
     "output_type": "execute_result"
    }
   ],
   "source": [
    "df.loan_status.unique()"
   ]
  },
  {
   "cell_type": "code",
   "execution_count": 16,
   "id": "43f98f24",
   "metadata": {
    "scrolled": true
   },
   "outputs": [],
   "source": [
    "df.insert(16,\"target_variable\", \" \")"
   ]
  },
  {
   "cell_type": "code",
   "execution_count": 18,
   "id": "047e19a1",
   "metadata": {},
   "outputs": [
    {
     "data": {
      "text/plain": [
       "(466285, 57)"
      ]
     },
     "execution_count": 18,
     "metadata": {},
     "output_type": "execute_result"
    }
   ],
   "source": [
    "df.shape"
   ]
  },
  {
   "cell_type": "code",
   "execution_count": 19,
   "id": "fe4abd8f",
   "metadata": {},
   "outputs": [],
   "source": [
    "df.drop('loan_status', inplace=True, axis=1)"
   ]
  },
  {
   "cell_type": "code",
   "execution_count": 20,
   "id": "bcb78a94",
   "metadata": {},
   "outputs": [
    {
     "data": {
      "text/plain": [
       "(466285, 56)"
      ]
     },
     "execution_count": 20,
     "metadata": {},
     "output_type": "execute_result"
    }
   ],
   "source": [
    "df.shape"
   ]
  },
  {
   "cell_type": "code",
   "execution_count": 22,
   "id": "db5cc60e",
   "metadata": {},
   "outputs": [],
   "source": [
    "df = df.loc[:,~df.columns.duplicated()]"
   ]
  },
  {
   "cell_type": "code",
   "execution_count": null,
   "id": "bed4e313",
   "metadata": {},
   "outputs": [],
   "source": []
  }
 ],
 "metadata": {
  "kernelspec": {
   "display_name": "Python 3 (ipykernel)",
   "language": "python",
   "name": "python3"
  },
  "language_info": {
   "codemirror_mode": {
    "name": "ipython",
    "version": 3
   },
   "file_extension": ".py",
   "mimetype": "text/x-python",
   "name": "python",
   "nbconvert_exporter": "python",
   "pygments_lexer": "ipython3",
   "version": "3.9.12"
  }
 },
 "nbformat": 4,
 "nbformat_minor": 5
}
